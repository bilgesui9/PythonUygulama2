{
  "metadata": {
    "kernelspec": {
      "name": "python",
      "display_name": "Python (Pyodide)",
      "language": "python"
    },
    "language_info": {
      "codemirror_mode": {
        "name": "python",
        "version": 3
      },
      "file_extension": ".py",
      "mimetype": "text/x-python",
      "name": "python",
      "nbconvert_exporter": "python",
      "pygments_lexer": "ipython3",
      "version": "3.8"
    }
  },
  "nbformat_minor": 4,
  "nbformat": 4,
  "cells": [
    {
      "cell_type": "code",
      "source": "import math",
      "metadata": {
        "trusted": true
      },
      "outputs": [],
      "execution_count": 6
    },
    {
      "cell_type": "code",
      "source": "# Noktaların tanımlanması\n\npoints = [(3,5), (8,14)]",
      "metadata": {
        "trusted": true
      },
      "outputs": [],
      "execution_count": 7
    },
    {
      "cell_type": "code",
      "source": "# Öklid mesafesi için bir fonksiyon yazılması\n\ndef euclideanDistance(point1, point2):\n    x1, y1 = point1\n    x2, y2 = point2\n    return math.sqrt(((x2 - x1) ** 2) + ((y2 - y1) ** 2))\n",
      "metadata": {
        "trusted": true
      },
      "outputs": [],
      "execution_count": 8
    },
    {
      "cell_type": "code",
      "source": "distances = []  # Mesafeleri saklamak için boş liste\n\nfor i in range(len(points)):\n    for j in range(i + 1, len(points)):\n        point1 = points[i]\n        point2 = points[j]\n        distance = euclideanDistance(point1, point2)  \n        distances.append((point1, point2, distance)) ",
      "metadata": {
        "trusted": true
      },
      "outputs": [],
      "execution_count": 9
    },
    {
      "cell_type": "code",
      "source": "#Sonuçları yazdırmak için\n\nprint(\"Nokta çiftleri ve aralarındaki mesafeler:\")\nfor p1, p2, dist in distances:\n    print(f\"({p1}, {p2}): {dist:.2f}\")",
      "metadata": {
        "trusted": true
      },
      "outputs": [
        {
          "name": "stdout",
          "text": "Nokta çiftleri ve aralarındaki mesafeler:\n((3, 5), (8, 14)): 10.30\n",
          "output_type": "stream"
        }
      ],
      "execution_count": 10
    }
  ]
}